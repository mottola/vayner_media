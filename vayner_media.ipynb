{
 "cells": [
  {
   "cell_type": "markdown",
   "metadata": {
    "collapsed": true
   },
   "source": [
    "# Question 1 - How Many Unique Campaigns Ran in February?\n"
   ]
  },
  {
   "cell_type": "code",
   "execution_count": 21,
   "metadata": {
    "collapsed": true
   },
   "outputs": [],
   "source": [
    "# IMPORT LIBRARIES AND MODULES\n",
    "\n",
    "import numpy as np\n",
    "import pandas as pd \n",
    "from pandas import Series"
   ]
  },
  {
   "cell_type": "code",
   "execution_count": 22,
   "metadata": {
    "collapsed": true
   },
   "outputs": [],
   "source": [
    "# READ IN FILES\n",
    "\n",
    "source_1 = pd.read_csv('source1.csv')\n",
    "source_2 = pd.read_csv('source2.csv')"
   ]
  },
  {
   "cell_type": "code",
   "execution_count": 23,
   "metadata": {
    "collapsed": false
   },
   "outputs": [
    {
     "name": "stdout",
     "output_type": "stream",
     "text": [
      "          campaign     date\n",
      "0  fish_cow_desert   1/1/15\n",
      "1  fish_cow_desert   1/2/15\n",
      "2  fish_cow_desert   1/3/15\n",
      "3  fish_cow_desert   1/4/15\n",
      "4  fish_cow_desert   1/5/15\n",
      "5  fish_cow_desert   1/6/15\n",
      "6  fish_cow_desert   1/7/15\n",
      "7  fish_cow_desert   1/8/15\n",
      "8  fish_cow_desert   1/9/15\n",
      "9  fish_cow_desert  1/10/15\n"
     ]
    }
   ],
   "source": [
    "# CREATE DATAFRAME WITH ONLY CAMPAIGN AND DATE VALUES\n",
    "\n",
    "campaign_and_date = source_1[['campaign', 'date']]\n",
    "print(campaign_and_date.head(10))"
   ]
  },
  {
   "cell_type": "code",
   "execution_count": 43,
   "metadata": {
    "collapsed": false
   },
   "outputs": [
    {
     "name": "stdout",
     "output_type": "stream",
     "text": [
      "           campaign     date\n",
      "31  fish_cow_desert   2/1/15\n",
      "32  fish_cow_desert   2/2/15\n",
      "33  fish_cow_desert   2/3/15\n",
      "34  fish_cow_desert   2/4/15\n",
      "35  fish_cow_desert   2/5/15\n",
      "36  fish_cow_desert   2/6/15\n",
      "37  fish_cow_desert   2/7/15\n",
      "38  fish_cow_desert   2/8/15\n",
      "39  fish_cow_desert   2/9/15\n",
      "40  fish_cow_desert  2/10/15\n",
      "3500\n"
     ]
    }
   ],
   "source": [
    "# FILTER OUT NON-FEBRUARY DATES IN THE 'date' SERIES\n",
    "\n",
    "campaigns_in_feb = campaign_and_date[campaign_and_date['date'].str.contains('^2')]\n",
    "print(campaigns_in_feb.head(10))\n",
    "print(len(campaigns_in_feb))"
   ]
  },
  {
   "cell_type": "code",
   "execution_count": 48,
   "metadata": {
    "collapsed": false
   },
   "outputs": [
    {
     "name": "stdout",
     "output_type": "stream",
     "text": [
      "['fish_cow_desert' 'fish_cow_jungle' 'fish_cow_mountains' 'fish_cow_plains'\n",
      " 'fish_cow_valley' 'fish_dog_desert' 'fish_dog_jungle' 'fish_dog_mountains'\n",
      " 'fish_dog_plains' 'fish_dog_valley' 'fish_lion_desert' 'fish_lion_jungle'\n",
      " 'fish_lion_mountains' 'fish_lion_plains' 'fish_lion_valley'\n",
      " 'fish_monkey_desert' 'fish_monkey_jungle' 'fish_monkey_mountains'\n",
      " 'fish_monkey_plains' 'fish_monkey_valley']\n",
      "125\n"
     ]
    }
   ],
   "source": [
    "# STORE AND PRINT UNIQUE CAMPAIGNS IN FEBRUARY\n",
    "\n",
    "unique_campaigns_in_feb = campaigns_in_feb['campaign'].unique()\n",
    "print(unique_campaigns_in_feb[:20])\n",
    "print(len(unique_campaigns_in_feb))"
   ]
  },
  {
   "cell_type": "markdown",
   "metadata": {},
   "source": [
    "### This concludes that there were <span style=\"color:green\">125</span> unique campaigns in the month of February."
   ]
  },
  {
   "cell_type": "markdown",
   "metadata": {},
   "source": [
    "# Question 2 - What is the Total Number of Conversions on Plants?"
   ]
  },
  {
   "cell_type": "code",
   "execution_count": 60,
   "metadata": {
    "collapsed": false
   },
   "outputs": [
    {
     "name": "stdout",
     "output_type": "stream",
     "text": [
      "               campaign    date  spend  impressions  \\\n",
      "7500  plants_cow_desert  1/1/15  57.61         6581   \n",
      "7501  plants_cow_desert  1/2/15  37.55         5031   \n",
      "7502  plants_cow_desert  1/3/15  48.83         9731   \n",
      "7503  plants_cow_desert  1/4/15  15.80         1792   \n",
      "7504  plants_cow_desert  1/5/15  57.20         9060   \n",
      "\n",
      "                                                actions  \n",
      "7500  [{\"action\": \"conversions\", \"c\": 47}, {\"action\"...  \n",
      "7501  [{\"action\": \"clicks\", \"z\": 47}, {\"action\": \"cl...  \n",
      "7502                    [{\"a\": 60, \"action\": \"clicks\"}]  \n",
      "7503  [{\"y\": 47, \"action\": \"conversions\"}, {\"action\"...  \n",
      "7504  [{\"y\": 12, \"action\": \"conversions\"}, {\"action\"...  \n"
     ]
    }
   ],
   "source": [
    "# CONDENSE THE DATAFRAME DOWN TO CAMPAIGNS CONTAINING PLANTS\n",
    "\n",
    "plants_campaigns = source_1[source_1['campaign'].str.contains('plants')]\n",
    "print(plants_campaigns.head(5))"
   ]
  },
  {
   "cell_type": "code",
   "execution_count": 89,
   "metadata": {
    "collapsed": false
   },
   "outputs": [
    {
     "name": "stdout",
     "output_type": "stream",
     "text": [
      "<class 'pandas.core.series.Series'>\n"
     ]
    }
   ],
   "source": [
    "print(type(plants_campaigns['actions']))\n"
   ]
  },
  {
   "cell_type": "code",
   "execution_count": null,
   "metadata": {
    "collapsed": true
   },
   "outputs": [],
   "source": []
  },
  {
   "cell_type": "code",
   "execution_count": null,
   "metadata": {
    "collapsed": true
   },
   "outputs": [],
   "source": []
  }
 ],
 "metadata": {
  "kernelspec": {
   "display_name": "Python 3",
   "language": "python",
   "name": "python3"
  },
  "language_info": {
   "codemirror_mode": {
    "name": "ipython",
    "version": 3
   },
   "file_extension": ".py",
   "mimetype": "text/x-python",
   "name": "python",
   "nbconvert_exporter": "python",
   "pygments_lexer": "ipython3",
   "version": "3.5.1"
  }
 },
 "nbformat": 4,
 "nbformat_minor": 0
}
