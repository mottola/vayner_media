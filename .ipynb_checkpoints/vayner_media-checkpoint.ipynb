{
 "cells": [
  {
   "cell_type": "code",
   "execution_count": 339,
   "metadata": {
    "collapsed": true
   },
   "outputs": [],
   "source": [
    "# IMPORT LIBRARIES AND MODULES\n",
    "\n",
    "import numpy as np\n",
    "import pandas as pd \n",
    "from pandas import Series"
   ]
  },
  {
   "cell_type": "code",
   "execution_count": 340,
   "metadata": {
    "collapsed": false
   },
   "outputs": [],
   "source": [
    "# READ IN FILES\n",
    "\n",
    "source_1 = pd.read_csv('source1.csv')\n",
    "source_2 = pd.read_csv('source2.csv')\n",
    "\n",
    "# CLEAN OUT DUPLICATE CAMPAIGNS\n",
    "clean_source_2 = source_2.drop_duplicates()\n",
    "\n",
    "merged_sources = source_1.merge(clean_source_2, how='left', left_on='campaign', right_on='campaign')\n"
   ]
  },
  {
   "cell_type": "markdown",
   "metadata": {
    "collapsed": true
   },
   "source": [
    "# Question 1 - How Many Unique Campaigns Ran in February?\n"
   ]
  },
  {
   "cell_type": "code",
   "execution_count": 341,
   "metadata": {
    "collapsed": false
   },
   "outputs": [
    {
     "name": "stdout",
     "output_type": "stream",
     "text": [
      "          campaign     date                                            actions\n",
      "0  fish_cow_desert   1/1/15  [{\"y\": 47, \"action\": \"conversions\"}, {\"action\"...\n",
      "1  fish_cow_desert   1/2/15  [{\"action\": \"views\", \"b\": 90}, {\"y\": 12, \"acti...\n",
      "2  fish_cow_desert   1/3/15  [{\"action\": \"conversions\", \"b\": 85}, {\"action\"...\n",
      "3  fish_cow_desert   1/4/15  [{\"action\": \"clicks\", \"c\": 71}, {\"action\": \"cl...\n",
      "4  fish_cow_desert   1/5/15  [{\"y\": 51, \"action\": \"conversions\"}, {\"action\"...\n",
      "5  fish_cow_desert   1/6/15  [{\"a\": 24, \"action\": \"conversions\"}, {\"action\"...\n",
      "6  fish_cow_desert   1/7/15  [{\"action\": \"views\", \"c\": 35}, {\"action\": \"vie...\n",
      "7  fish_cow_desert   1/8/15  [{\"y\": 79, \"action\": \"conversions\"}, {\"action\"...\n",
      "8  fish_cow_desert   1/9/15  [{\"action\": \"views\", \"c\": 42}, {\"y\": 50, \"acti...\n",
      "9  fish_cow_desert  1/10/15  [{\"action\": \"clicks\", \"b\": 28}, {\"action\": \"cl...\n",
      "12500\n"
     ]
    }
   ],
   "source": [
    "# CREATE DATAFRAME WITH ONLY CAMPAIGN, DATE, AND ACTIONS VALUES\n",
    "\n",
    "campaign_date_action = merged_sources[['campaign', 'date', 'actions']]\n",
    "print(campaign_date_action.head(10))\n",
    "print(len(campaign_date_action))"
   ]
  },
  {
   "cell_type": "code",
   "execution_count": 342,
   "metadata": {
    "collapsed": false
   },
   "outputs": [
    {
     "name": "stdout",
     "output_type": "stream",
     "text": [
      "           campaign     date  \\\n",
      "31  fish_cow_desert   2/1/15   \n",
      "32  fish_cow_desert   2/2/15   \n",
      "33  fish_cow_desert   2/3/15   \n",
      "34  fish_cow_desert   2/4/15   \n",
      "35  fish_cow_desert   2/5/15   \n",
      "36  fish_cow_desert   2/6/15   \n",
      "37  fish_cow_desert   2/7/15   \n",
      "38  fish_cow_desert   2/8/15   \n",
      "39  fish_cow_desert   2/9/15   \n",
      "40  fish_cow_desert  2/10/15   \n",
      "\n",
      "                                              actions  \n",
      "31  [{\"action\": \"clicks\", \"b\": 35}, {\"action\": \"cl...  \n",
      "32  [{\"action\": \"views\", \"c\": 91}, {\"a\": 59, \"acti...  \n",
      "33  [{\"y\": 57, \"action\": \"conversions\"}, {\"a\": 95,...  \n",
      "34  [{\"y\": 26, \"action\": \"conversions\"}, {\"a\": 86,...  \n",
      "35  [{\"a\": 66, \"action\": \"views\"}, {\"y\": 11, \"acti...  \n",
      "36  [{\"y\": 30, \"action\": \"views\"}, {\"action\": \"vie...  \n",
      "37  [{\"action\": \"conversions\", \"c\": 53}, {\"action\"...  \n",
      "38  [{\"action\": \"views\", \"b\": 82}, {\"action\": \"vie...  \n",
      "39  [{\"a\": 32, \"action\": \"clicks\"}, {\"action\": \"cl...  \n",
      "40  [{\"action\": \"clicks\", \"c\": 57}, {\"action\": \"cl...  \n",
      "3500\n"
     ]
    }
   ],
   "source": [
    "# FILTER OUT NON-FEBRUARY DATES IN THE 'date' COLUMN\n",
    "campaigns_in_feb = campaign_date_action[campaign_date_action['date'].str.contains('^2')]\n",
    "\n",
    "print(campaigns_in_feb.head(10))\n",
    "print(len(campaigns_in_feb))"
   ]
  },
  {
   "cell_type": "code",
   "execution_count": 343,
   "metadata": {
    "collapsed": false
   },
   "outputs": [
    {
     "name": "stdout",
     "output_type": "stream",
     "text": [
      "           campaign     date  \\\n",
      "31  fish_cow_desert   2/1/15   \n",
      "32  fish_cow_desert   2/2/15   \n",
      "33  fish_cow_desert   2/3/15   \n",
      "35  fish_cow_desert   2/5/15   \n",
      "36  fish_cow_desert   2/6/15   \n",
      "37  fish_cow_desert   2/7/15   \n",
      "38  fish_cow_desert   2/8/15   \n",
      "39  fish_cow_desert   2/9/15   \n",
      "40  fish_cow_desert  2/10/15   \n",
      "41  fish_cow_desert  2/11/15   \n",
      "\n",
      "                                              actions  \n",
      "31  [{\"action\": \"clicks\", \"b\": 35}, {\"action\": \"cl...  \n",
      "32  [{\"action\": \"views\", \"c\": 91}, {\"a\": 59, \"acti...  \n",
      "33  [{\"y\": 57, \"action\": \"conversions\"}, {\"a\": 95,...  \n",
      "35  [{\"a\": 66, \"action\": \"views\"}, {\"y\": 11, \"acti...  \n",
      "36  [{\"y\": 30, \"action\": \"views\"}, {\"action\": \"vie...  \n",
      "37  [{\"action\": \"conversions\", \"c\": 53}, {\"action\"...  \n",
      "38  [{\"action\": \"views\", \"b\": 82}, {\"action\": \"vie...  \n",
      "39  [{\"a\": 32, \"action\": \"clicks\"}, {\"action\": \"cl...  \n",
      "40  [{\"action\": \"clicks\", \"c\": 57}, {\"action\": \"cl...  \n",
      "41  [{\"a\": 69, \"action\": \"conversions\"}, {\"y\": 74,...  \n",
      "2720\n"
     ]
    }
   ],
   "source": [
    "# FILTER OUT NON X OR Y KEYS IN THE 'actions' COLUMN\n",
    "campaigns_in_feb = campaigns_in_feb[campaigns_in_feb['actions'].str.contains('\"x\"' or '\"y\"')]\n",
    "\n",
    "print(campaigns_in_feb.head(10))\n",
    "print(len(campaigns_in_feb))"
   ]
  },
  {
   "cell_type": "code",
   "execution_count": 344,
   "metadata": {
    "collapsed": false
   },
   "outputs": [
    {
     "name": "stdout",
     "output_type": "stream",
     "text": [
      "RangeIndex(start=0, stop=2720, step=1)\n"
     ]
    }
   ],
   "source": [
    "# RESET INDECES\n",
    "campaigns_in_feb = campaigns_in_feb.reset_index()\n",
    "print(campaigns_in_feb.index)"
   ]
  },
  {
   "cell_type": "code",
   "execution_count": 345,
   "metadata": {
    "collapsed": false,
    "scrolled": true
   },
   "outputs": [
    {
     "name": "stdout",
     "output_type": "stream",
     "text": [
      "   index         campaign     date  \\\n",
      "0     31  fish_cow_desert   2/1/15   \n",
      "1     32  fish_cow_desert   2/2/15   \n",
      "2     33  fish_cow_desert   2/3/15   \n",
      "3     35  fish_cow_desert   2/5/15   \n",
      "4     36  fish_cow_desert   2/6/15   \n",
      "5     37  fish_cow_desert   2/7/15   \n",
      "6     38  fish_cow_desert   2/8/15   \n",
      "7     39  fish_cow_desert   2/9/15   \n",
      "8     40  fish_cow_desert  2/10/15   \n",
      "9     41  fish_cow_desert  2/11/15   \n",
      "\n",
      "                                             actions  \n",
      "0  [{\"action\": \"clicks\", \"b\": 35}, {\"action\": \"cl...  \n",
      "1  [{\"action\": \"views\", \"c\": 91}, {\"a\": 59, \"acti...  \n",
      "2  [{\"y\": 57, \"action\": \"conversions\"}, {\"a\": 95,...  \n",
      "3  [{\"a\": 66, \"action\": \"views\"}, {\"y\": 11, \"acti...  \n",
      "4  [{\"y\": 30, \"action\": \"views\"}, {\"action\": \"vie...  \n",
      "5  [{\"action\": \"conversions\", \"c\": 53}, {\"action\"...  \n",
      "6  [{\"action\": \"views\", \"b\": 82}, {\"action\": \"vie...  \n",
      "7  [{\"a\": 32, \"action\": \"clicks\"}, {\"action\": \"cl...  \n",
      "8  [{\"action\": \"clicks\", \"c\": 57}, {\"action\": \"cl...  \n",
      "9  [{\"a\": 69, \"action\": \"conversions\"}, {\"y\": 74,...  \n",
      "2720\n"
     ]
    }
   ],
   "source": [
    "print(campaigns_in_feb.head(10))\n",
    "print(len(campaigns_in_feb))"
   ]
  },
  {
   "cell_type": "markdown",
   "metadata": {},
   "source": [
    "### At this point, I have a pandas dataframe containing only the columns for campaign, date, and actions. I have cleaned up the dateframe to contain only rows where the date is February and x OR y can be found in actions. Now, I will pull off unique campaigns which will provide the answer to problem 1."
   ]
  },
  {
   "cell_type": "code",
   "execution_count": 346,
   "metadata": {
    "collapsed": false
   },
   "outputs": [
    {
     "name": "stdout",
     "output_type": "stream",
     "text": [
      "0         fish_cow_desert\n",
      "23        fish_cow_jungle\n",
      "48     fish_cow_mountains\n",
      "73        fish_cow_plains\n",
      "89        fish_cow_valley\n",
      "110       fish_dog_desert\n",
      "134       fish_dog_jungle\n",
      "152    fish_dog_mountains\n",
      "171       fish_dog_plains\n",
      "191       fish_dog_valley\n",
      "Name: campaign, dtype: object\n",
      "125\n"
     ]
    }
   ],
   "source": [
    "# STORE AND PRINT UNIQUE CAMPAIGNS IN FEBRUARY\n",
    "unique_campaigns_in_feb = campaigns_in_feb['campaign'].drop_duplicates()\n",
    "answer_to_problem_1 = len(unique_campaigns_in_feb)\n",
    "\n",
    "\n",
    "print(unique_campaigns_in_feb.head(10))\n",
    "\n",
    "print(answer_to_problem_1)"
   ]
  },
  {
   "cell_type": "markdown",
   "metadata": {},
   "source": [
    "# There were <font color='green'>125</font> Unique Campaigns in February"
   ]
  },
  {
   "cell_type": "code",
   "execution_count": 347,
   "metadata": {
    "collapsed": false
   },
   "outputs": [],
   "source": [
    "unique_campaigns_in_feb = unique_campaigns_in_feb.reset_index(drop=True)"
   ]
  },
  {
   "cell_type": "code",
   "execution_count": 348,
   "metadata": {
    "collapsed": false
   },
   "outputs": [
    {
     "data": {
      "text/plain": [
       "0                 fish_cow_desert\n",
       "1                 fish_cow_jungle\n",
       "2              fish_cow_mountains\n",
       "3                 fish_cow_plains\n",
       "4                 fish_cow_valley\n",
       "5                 fish_dog_desert\n",
       "6                 fish_dog_jungle\n",
       "7              fish_dog_mountains\n",
       "8                 fish_dog_plains\n",
       "9                 fish_dog_valley\n",
       "10               fish_lion_desert\n",
       "11               fish_lion_jungle\n",
       "12            fish_lion_mountains\n",
       "13               fish_lion_plains\n",
       "14               fish_lion_valley\n",
       "15             fish_monkey_desert\n",
       "16             fish_monkey_jungle\n",
       "17          fish_monkey_mountains\n",
       "18             fish_monkey_plains\n",
       "19             fish_monkey_valley\n",
       "20              fish_snake_desert\n",
       "21              fish_snake_jungle\n",
       "22           fish_snake_mountains\n",
       "23              fish_snake_plains\n",
       "24              fish_snake_valley\n",
       "25               fruit_cow_desert\n",
       "26               fruit_cow_jungle\n",
       "27            fruit_cow_mountains\n",
       "28               fruit_cow_plains\n",
       "29               fruit_cow_valley\n",
       "                  ...            \n",
       "95            plants_snake_desert\n",
       "96            plants_snake_jungle\n",
       "97         plants_snake_mountains\n",
       "98            plants_snake_plains\n",
       "99            plants_snake_valley\n",
       "100          vegtables_cow_desert\n",
       "101          vegtables_cow_jungle\n",
       "102       vegtables_cow_mountains\n",
       "103          vegtables_cow_plains\n",
       "104          vegtables_cow_valley\n",
       "105          vegtables_dog_desert\n",
       "106          vegtables_dog_jungle\n",
       "107       vegtables_dog_mountains\n",
       "108          vegtables_dog_plains\n",
       "109          vegtables_dog_valley\n",
       "110         vegtables_lion_desert\n",
       "111         vegtables_lion_jungle\n",
       "112      vegtables_lion_mountains\n",
       "113         vegtables_lion_plains\n",
       "114         vegtables_lion_valley\n",
       "115       vegtables_monkey_desert\n",
       "116       vegtables_monkey_jungle\n",
       "117    vegtables_monkey_mountains\n",
       "118       vegtables_monkey_plains\n",
       "119       vegtables_monkey_valley\n",
       "120        vegtables_snake_desert\n",
       "121        vegtables_snake_jungle\n",
       "122     vegtables_snake_mountains\n",
       "123        vegtables_snake_plains\n",
       "124        vegtables_snake_valley\n",
       "Name: campaign, dtype: object"
      ]
     },
     "execution_count": 348,
     "metadata": {},
     "output_type": "execute_result"
    }
   ],
   "source": [
    "unique_campaigns_in_feb"
   ]
  },
  {
   "cell_type": "markdown",
   "metadata": {},
   "source": [
    "### This concludes that there were <span style=\"color:green\">125</span> unique campaigns in the month of February."
   ]
  },
  {
   "cell_type": "markdown",
   "metadata": {},
   "source": [
    "# Question 2 - What is the Total Number of Conversions on Plants?"
   ]
  },
  {
   "cell_type": "code",
   "execution_count": 178,
   "metadata": {
    "collapsed": false,
    "scrolled": true
   },
   "outputs": [
    {
     "name": "stdout",
     "output_type": "stream",
     "text": [
      "               campaign    date  spend  impressions  \\\n",
      "7500  plants_cow_desert  1/1/15  57.61         6581   \n",
      "\n",
      "                                                actions  \n",
      "7500  [{\"action\": \"conversions\", \"c\": 47}, {\"action\"...  \n"
     ]
    }
   ],
   "source": [
    "# CONDENSE THE DATAFRAME DOWN TO CAMPAIGNS CONTAINING PLANTS\n",
    "\n",
    "plants_campaigns = source_1[source_1['campaign'].str.contains('plants')]\n",
    "print(plants_campaigns.head(1))"
   ]
  },
  {
   "cell_type": "code",
   "execution_count": 204,
   "metadata": {
    "collapsed": false
   },
   "outputs": [
    {
     "name": "stdout",
     "output_type": "stream",
     "text": [
      "[{\"action\": \"conversions\", \"c\": 47}, {\"action\": \"views\", \"b\": 46}, {\"action\": \"views\", \"c\": 35}, {\"action\": \"clicks\", \"c\": 51}, {\"action\": \"clicks\", \"x\": 96}, {\"a\": 50, \"action\": \"clicks\"}, {\"action\": \"clicks\", \"z\": 51}]\n",
      "<class 'str'>\n",
      "<class 'pandas.core.series.Series'>\n"
     ]
    }
   ],
   "source": [
    "# print(type(plants_campaigns['actions']))\n",
    "print(plants_campaigns['actions'].iloc[0])\n",
    "print(type(plants_campaigns['actions'].iloc[0]))\n",
    "print(type(plants_campaigns['actions']))"
   ]
  }
 ],
 "metadata": {
  "kernelspec": {
   "display_name": "Python 3",
   "language": "python",
   "name": "python3"
  },
  "language_info": {
   "codemirror_mode": {
    "name": "ipython",
    "version": 3
   },
   "file_extension": ".py",
   "mimetype": "text/x-python",
   "name": "python",
   "nbconvert_exporter": "python",
   "pygments_lexer": "ipython3",
   "version": "3.5.1"
  }
 },
 "nbformat": 4,
 "nbformat_minor": 0
}
