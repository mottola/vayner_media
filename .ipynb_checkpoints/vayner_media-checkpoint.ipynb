{
 "cells": [
  {
   "cell_type": "code",
   "execution_count": 1,
   "metadata": {
    "collapsed": true
   },
   "outputs": [],
   "source": [
    "# IMPORT LIBRARIES AND MODULES\n",
    "\n",
    "import numpy as np\n",
    "import pandas as pd \n",
    "from pandas import Series"
   ]
  },
  {
   "cell_type": "code",
   "execution_count": 2,
   "metadata": {
    "collapsed": false
   },
   "outputs": [],
   "source": [
    "# READ IN FILES\n",
    "\n",
    "source_1 = pd.read_csv('source1.csv')\n",
    "source_2 = pd.read_csv('source2.csv')\n",
    "\n",
    "# CLEAN OUT DUPLICATE CAMPAIGNS\n",
    "clean_source_2 = source_2.drop_duplicates()\n",
    "\n",
    "merged_sources = source_1.merge(clean_source_2, how='left', left_on='campaign', right_on='campaign')\n"
   ]
  },
  {
   "cell_type": "markdown",
   "metadata": {
    "collapsed": true
   },
   "source": [
    "# Question 1 - How Many Unique Campaigns Ran in February?\n"
   ]
  },
  {
   "cell_type": "code",
   "execution_count": 3,
   "metadata": {
    "collapsed": false
   },
   "outputs": [
    {
     "name": "stdout",
     "output_type": "stream",
     "text": [
      "          campaign     date                                            actions\n",
      "0  fish_cow_desert   1/1/15  [{\"y\": 47, \"action\": \"conversions\"}, {\"action\"...\n",
      "1  fish_cow_desert   1/2/15  [{\"action\": \"views\", \"b\": 90}, {\"y\": 12, \"acti...\n",
      "2  fish_cow_desert   1/3/15  [{\"action\": \"conversions\", \"b\": 85}, {\"action\"...\n",
      "3  fish_cow_desert   1/4/15  [{\"action\": \"clicks\", \"c\": 71}, {\"action\": \"cl...\n",
      "4  fish_cow_desert   1/5/15  [{\"y\": 51, \"action\": \"conversions\"}, {\"action\"...\n",
      "5  fish_cow_desert   1/6/15  [{\"a\": 24, \"action\": \"conversions\"}, {\"action\"...\n",
      "6  fish_cow_desert   1/7/15  [{\"action\": \"views\", \"c\": 35}, {\"action\": \"vie...\n",
      "7  fish_cow_desert   1/8/15  [{\"y\": 79, \"action\": \"conversions\"}, {\"action\"...\n",
      "8  fish_cow_desert   1/9/15  [{\"action\": \"views\", \"c\": 42}, {\"y\": 50, \"acti...\n",
      "9  fish_cow_desert  1/10/15  [{\"action\": \"clicks\", \"b\": 28}, {\"action\": \"cl...\n",
      "12500\n"
     ]
    }
   ],
   "source": [
    "# CREATE DATAFRAME WITH ONLY CAMPAIGN, DATE, AND ACTIONS VALUES\n",
    "\n",
    "campaign_date_action = merged_sources[['campaign', 'date', 'actions']]\n",
    "print(campaign_date_action.head(10))\n",
    "print(len(campaign_date_action))"
   ]
  },
  {
   "cell_type": "code",
   "execution_count": 4,
   "metadata": {
    "collapsed": false
   },
   "outputs": [
    {
     "name": "stdout",
     "output_type": "stream",
     "text": [
      "           campaign     date  \\\n",
      "31  fish_cow_desert   2/1/15   \n",
      "32  fish_cow_desert   2/2/15   \n",
      "33  fish_cow_desert   2/3/15   \n",
      "34  fish_cow_desert   2/4/15   \n",
      "35  fish_cow_desert   2/5/15   \n",
      "36  fish_cow_desert   2/6/15   \n",
      "37  fish_cow_desert   2/7/15   \n",
      "38  fish_cow_desert   2/8/15   \n",
      "39  fish_cow_desert   2/9/15   \n",
      "40  fish_cow_desert  2/10/15   \n",
      "\n",
      "                                              actions  \n",
      "31  [{\"action\": \"clicks\", \"b\": 35}, {\"action\": \"cl...  \n",
      "32  [{\"action\": \"views\", \"c\": 91}, {\"a\": 59, \"acti...  \n",
      "33  [{\"y\": 57, \"action\": \"conversions\"}, {\"a\": 95,...  \n",
      "34  [{\"y\": 26, \"action\": \"conversions\"}, {\"a\": 86,...  \n",
      "35  [{\"a\": 66, \"action\": \"views\"}, {\"y\": 11, \"acti...  \n",
      "36  [{\"y\": 30, \"action\": \"views\"}, {\"action\": \"vie...  \n",
      "37  [{\"action\": \"conversions\", \"c\": 53}, {\"action\"...  \n",
      "38  [{\"action\": \"views\", \"b\": 82}, {\"action\": \"vie...  \n",
      "39  [{\"a\": 32, \"action\": \"clicks\"}, {\"action\": \"cl...  \n",
      "40  [{\"action\": \"clicks\", \"c\": 57}, {\"action\": \"cl...  \n",
      "3500\n"
     ]
    }
   ],
   "source": [
    "# FILTER OUT NON-FEBRUARY DATES IN THE 'date' COLUMN\n",
    "campaigns_in_feb = campaign_date_action[campaign_date_action['date'].str.contains('^2')]\n",
    "\n",
    "print(campaigns_in_feb.head(10))\n",
    "print(len(campaigns_in_feb))"
   ]
  },
  {
   "cell_type": "code",
   "execution_count": 5,
   "metadata": {
    "collapsed": false
   },
   "outputs": [
    {
     "name": "stdout",
     "output_type": "stream",
     "text": [
      "           campaign     date  \\\n",
      "31  fish_cow_desert   2/1/15   \n",
      "32  fish_cow_desert   2/2/15   \n",
      "33  fish_cow_desert   2/3/15   \n",
      "35  fish_cow_desert   2/5/15   \n",
      "36  fish_cow_desert   2/6/15   \n",
      "37  fish_cow_desert   2/7/15   \n",
      "38  fish_cow_desert   2/8/15   \n",
      "39  fish_cow_desert   2/9/15   \n",
      "40  fish_cow_desert  2/10/15   \n",
      "41  fish_cow_desert  2/11/15   \n",
      "\n",
      "                                              actions  \n",
      "31  [{\"action\": \"clicks\", \"b\": 35}, {\"action\": \"cl...  \n",
      "32  [{\"action\": \"views\", \"c\": 91}, {\"a\": 59, \"acti...  \n",
      "33  [{\"y\": 57, \"action\": \"conversions\"}, {\"a\": 95,...  \n",
      "35  [{\"a\": 66, \"action\": \"views\"}, {\"y\": 11, \"acti...  \n",
      "36  [{\"y\": 30, \"action\": \"views\"}, {\"action\": \"vie...  \n",
      "37  [{\"action\": \"conversions\", \"c\": 53}, {\"action\"...  \n",
      "38  [{\"action\": \"views\", \"b\": 82}, {\"action\": \"vie...  \n",
      "39  [{\"a\": 32, \"action\": \"clicks\"}, {\"action\": \"cl...  \n",
      "40  [{\"action\": \"clicks\", \"c\": 57}, {\"action\": \"cl...  \n",
      "41  [{\"a\": 69, \"action\": \"conversions\"}, {\"y\": 74,...  \n",
      "2720\n"
     ]
    }
   ],
   "source": [
    "# FILTER OUT NON X OR Y KEYS IN THE 'actions' COLUMN\n",
    "campaigns_in_feb = campaigns_in_feb[campaigns_in_feb['actions'].str.contains('\"x\"' or '\"y\"')]\n",
    "\n",
    "print(campaigns_in_feb.head(10))\n",
    "print(len(campaigns_in_feb))"
   ]
  },
  {
   "cell_type": "code",
   "execution_count": 6,
   "metadata": {
    "collapsed": false
   },
   "outputs": [
    {
     "name": "stdout",
     "output_type": "stream",
     "text": [
      "RangeIndex(start=0, stop=2720, step=1)\n"
     ]
    }
   ],
   "source": [
    "# RESET INDECES\n",
    "campaigns_in_feb = campaigns_in_feb.reset_index()\n",
    "print(campaigns_in_feb.index)"
   ]
  },
  {
   "cell_type": "code",
   "execution_count": 7,
   "metadata": {
    "collapsed": false,
    "scrolled": true
   },
   "outputs": [
    {
     "name": "stdout",
     "output_type": "stream",
     "text": [
      "   index         campaign     date  \\\n",
      "0     31  fish_cow_desert   2/1/15   \n",
      "1     32  fish_cow_desert   2/2/15   \n",
      "2     33  fish_cow_desert   2/3/15   \n",
      "3     35  fish_cow_desert   2/5/15   \n",
      "4     36  fish_cow_desert   2/6/15   \n",
      "5     37  fish_cow_desert   2/7/15   \n",
      "6     38  fish_cow_desert   2/8/15   \n",
      "7     39  fish_cow_desert   2/9/15   \n",
      "8     40  fish_cow_desert  2/10/15   \n",
      "9     41  fish_cow_desert  2/11/15   \n",
      "\n",
      "                                             actions  \n",
      "0  [{\"action\": \"clicks\", \"b\": 35}, {\"action\": \"cl...  \n",
      "1  [{\"action\": \"views\", \"c\": 91}, {\"a\": 59, \"acti...  \n",
      "2  [{\"y\": 57, \"action\": \"conversions\"}, {\"a\": 95,...  \n",
      "3  [{\"a\": 66, \"action\": \"views\"}, {\"y\": 11, \"acti...  \n",
      "4  [{\"y\": 30, \"action\": \"views\"}, {\"action\": \"vie...  \n",
      "5  [{\"action\": \"conversions\", \"c\": 53}, {\"action\"...  \n",
      "6  [{\"action\": \"views\", \"b\": 82}, {\"action\": \"vie...  \n",
      "7  [{\"a\": 32, \"action\": \"clicks\"}, {\"action\": \"cl...  \n",
      "8  [{\"action\": \"clicks\", \"c\": 57}, {\"action\": \"cl...  \n",
      "9  [{\"a\": 69, \"action\": \"conversions\"}, {\"y\": 74,...  \n",
      "2720\n"
     ]
    }
   ],
   "source": [
    "print(campaigns_in_feb.head(10))\n",
    "print(len(campaigns_in_feb))"
   ]
  },
  {
   "cell_type": "markdown",
   "metadata": {},
   "source": [
    "#### At this point, I have a pandas dataframe containing only the columns for campaign, date, and actions. I have cleaned up the dateframe to contain only rows where the date is February and x OR y can be found in actions. Now, I will pull off unique campaigns which will provide the answer to problem 1."
   ]
  },
  {
   "cell_type": "code",
   "execution_count": 8,
   "metadata": {
    "collapsed": false
   },
   "outputs": [
    {
     "name": "stdout",
     "output_type": "stream",
     "text": [
      "0         fish_cow_desert\n",
      "23        fish_cow_jungle\n",
      "48     fish_cow_mountains\n",
      "73        fish_cow_plains\n",
      "89        fish_cow_valley\n",
      "110       fish_dog_desert\n",
      "134       fish_dog_jungle\n",
      "152    fish_dog_mountains\n",
      "171       fish_dog_plains\n",
      "191       fish_dog_valley\n",
      "Name: campaign, dtype: object\n",
      "125\n"
     ]
    }
   ],
   "source": [
    "# STORE AND PRINT UNIQUE CAMPAIGNS IN FEBRUARY\n",
    "unique_campaigns_in_feb = campaigns_in_feb['campaign'].drop_duplicates()\n",
    "answer_to_problem_1 = len(unique_campaigns_in_feb)\n",
    "\n",
    "\n",
    "print(unique_campaigns_in_feb.head(10))\n",
    "\n",
    "print(answer_to_problem_1)"
   ]
  },
  {
   "cell_type": "markdown",
   "metadata": {},
   "source": [
    "# There were <span style=\"color:green\">125</span> Unique Campaigns in February"
   ]
  },
  {
   "cell_type": "code",
   "execution_count": 9,
   "metadata": {
    "collapsed": false
   },
   "outputs": [],
   "source": [
    "unique_campaigns_in_feb = unique_campaigns_in_feb.reset_index(drop=True)"
   ]
  },
  {
   "cell_type": "code",
   "execution_count": 10,
   "metadata": {
    "collapsed": false
   },
   "outputs": [
    {
     "data": {
      "text/plain": [
       "0                 fish_cow_desert\n",
       "1                 fish_cow_jungle\n",
       "2              fish_cow_mountains\n",
       "3                 fish_cow_plains\n",
       "4                 fish_cow_valley\n",
       "5                 fish_dog_desert\n",
       "6                 fish_dog_jungle\n",
       "7              fish_dog_mountains\n",
       "8                 fish_dog_plains\n",
       "9                 fish_dog_valley\n",
       "10               fish_lion_desert\n",
       "11               fish_lion_jungle\n",
       "12            fish_lion_mountains\n",
       "13               fish_lion_plains\n",
       "14               fish_lion_valley\n",
       "15             fish_monkey_desert\n",
       "16             fish_monkey_jungle\n",
       "17          fish_monkey_mountains\n",
       "18             fish_monkey_plains\n",
       "19             fish_monkey_valley\n",
       "20              fish_snake_desert\n",
       "21              fish_snake_jungle\n",
       "22           fish_snake_mountains\n",
       "23              fish_snake_plains\n",
       "24              fish_snake_valley\n",
       "25               fruit_cow_desert\n",
       "26               fruit_cow_jungle\n",
       "27            fruit_cow_mountains\n",
       "28               fruit_cow_plains\n",
       "29               fruit_cow_valley\n",
       "                  ...            \n",
       "95            plants_snake_desert\n",
       "96            plants_snake_jungle\n",
       "97         plants_snake_mountains\n",
       "98            plants_snake_plains\n",
       "99            plants_snake_valley\n",
       "100          vegtables_cow_desert\n",
       "101          vegtables_cow_jungle\n",
       "102       vegtables_cow_mountains\n",
       "103          vegtables_cow_plains\n",
       "104          vegtables_cow_valley\n",
       "105          vegtables_dog_desert\n",
       "106          vegtables_dog_jungle\n",
       "107       vegtables_dog_mountains\n",
       "108          vegtables_dog_plains\n",
       "109          vegtables_dog_valley\n",
       "110         vegtables_lion_desert\n",
       "111         vegtables_lion_jungle\n",
       "112      vegtables_lion_mountains\n",
       "113         vegtables_lion_plains\n",
       "114         vegtables_lion_valley\n",
       "115       vegtables_monkey_desert\n",
       "116       vegtables_monkey_jungle\n",
       "117    vegtables_monkey_mountains\n",
       "118       vegtables_monkey_plains\n",
       "119       vegtables_monkey_valley\n",
       "120        vegtables_snake_desert\n",
       "121        vegtables_snake_jungle\n",
       "122     vegtables_snake_mountains\n",
       "123        vegtables_snake_plains\n",
       "124        vegtables_snake_valley\n",
       "Name: campaign, dtype: object"
      ]
     },
     "execution_count": 10,
     "metadata": {},
     "output_type": "execute_result"
    }
   ],
   "source": [
    "unique_campaigns_in_feb"
   ]
  },
  {
   "cell_type": "markdown",
   "metadata": {},
   "source": [
    "# Question 2 - What is the Total Number of Conversions on Plants?"
   ]
  },
  {
   "cell_type": "code",
   "execution_count": 78,
   "metadata": {
    "collapsed": false,
    "scrolled": true
   },
   "outputs": [
    {
     "name": "stdout",
     "output_type": "stream",
     "text": [
      "          campaign                                            actions\n",
      "0  fish_cow_desert  [{\"y\": 47, \"action\": \"conversions\"}, {\"action\"...\n",
      "1  fish_cow_desert  [{\"action\": \"views\", \"b\": 90}, {\"y\": 12, \"acti...\n",
      "2  fish_cow_desert  [{\"action\": \"conversions\", \"b\": 85}, {\"action\"...\n",
      "3  fish_cow_desert  [{\"action\": \"clicks\", \"c\": 71}, {\"action\": \"cl...\n",
      "4  fish_cow_desert  [{\"y\": 51, \"action\": \"conversions\"}, {\"action\"...\n"
     ]
    }
   ],
   "source": [
    "# FILTER DATAFRAME TO CONTAIN ONLY CAMPAIGNS AND ACTIONS\n",
    "campaigns_and_actions = merged_sources[['campaign', 'actions']]\n",
    "print(campaigns_and_actions.head(5))"
   ]
  },
  {
   "cell_type": "code",
   "execution_count": 79,
   "metadata": {
    "collapsed": false
   },
   "outputs": [
    {
     "name": "stdout",
     "output_type": "stream",
     "text": [
      "               campaign                                            actions\n",
      "7500  plants_cow_desert  [{\"action\": \"conversions\", \"c\": 47}, {\"action\"...\n",
      "7501  plants_cow_desert  [{\"action\": \"clicks\", \"z\": 47}, {\"action\": \"cl...\n",
      "7502  plants_cow_desert                    [{\"a\": 60, \"action\": \"clicks\"}]\n",
      "7503  plants_cow_desert  [{\"y\": 47, \"action\": \"conversions\"}, {\"action\"...\n",
      "7504  plants_cow_desert  [{\"y\": 12, \"action\": \"conversions\"}, {\"action\"...\n"
     ]
    }
   ],
   "source": [
    "# PLANTS ONLY CAMPAIGNS\n",
    "campaigns_and_actions = campaigns_and_actions[campaigns_and_actions['campaign'].str.contains('plants')]\n",
    "print(campaigns_and_actions.head(5))"
   ]
  },
  {
   "cell_type": "code",
   "execution_count": 80,
   "metadata": {
    "collapsed": false
   },
   "outputs": [
    {
     "name": "stdout",
     "output_type": "stream",
     "text": [
      "            campaign                                            actions\n",
      "0  plants_cow_desert  [{\"action\": \"conversions\", \"c\": 47}, {\"action\"...\n",
      "1  plants_cow_desert  [{\"action\": \"clicks\", \"z\": 47}, {\"action\": \"cl...\n",
      "2  plants_cow_desert                    [{\"a\": 60, \"action\": \"clicks\"}]\n",
      "3  plants_cow_desert  [{\"y\": 47, \"action\": \"conversions\"}, {\"action\"...\n",
      "4  plants_cow_desert  [{\"y\": 12, \"action\": \"conversions\"}, {\"action\"...\n"
     ]
    }
   ],
   "source": [
    "# REINDEX \n",
    "campaigns_and_actions = campaigns_and_actions.reset_index(drop=True)\n",
    "print(campaigns_and_actions.head(5))"
   ]
  },
  {
   "cell_type": "code",
   "execution_count": 85,
   "metadata": {
    "collapsed": false
   },
   "outputs": [
    {
     "name": "stdout",
     "output_type": "stream",
     "text": [
      "0       [{\"action\": \"conversions\", \"c\": 47}, {\"action\"...\n",
      "1       [{\"action\": \"clicks\", \"z\": 47}, {\"action\": \"cl...\n",
      "2                         [{\"a\": 60, \"action\": \"clicks\"}]\n",
      "3       [{\"y\": 47, \"action\": \"conversions\"}, {\"action\"...\n",
      "4       [{\"y\": 12, \"action\": \"conversions\"}, {\"action\"...\n",
      "5       [{\"action\": \"views\", \"c\": 90}, {\"a\": 44, \"acti...\n",
      "6       [{\"action\": \"conversions\", \"b\": 66}, {\"action\"...\n",
      "7       [{\"action\": \"conversions\", \"c\": 23}, {\"action\"...\n",
      "8                         [{\"action\": \"clicks\", \"c\": 98}]\n",
      "9       [{\"action\": \"views\", \"b\": 18}, {\"y\": 42, \"acti...\n",
      "10      [{\"action\": \"clicks\", \"x\": 43}, {\"action\": \"cl...\n",
      "11      [{\"action\": \"clicks\", \"x\": 53}, {\"action\": \"cl...\n",
      "12      [{\"action\": \"views\", \"z\": 48}, {\"y\": 43, \"acti...\n",
      "13      [{\"a\": 6, \"action\": \"clicks\"}, {\"action\": \"cli...\n",
      "14      [{\"action\": \"clicks\", \"b\": 51}, {\"a\": 82, \"act...\n",
      "15      [{\"action\": \"conversions\", \"b\": 5}, {\"action\":...\n",
      "16      [{\"y\": 25, \"action\": \"clicks\"}, {\"action\": \"cl...\n",
      "17      [{\"action\": \"views\", \"z\": 90}, {\"a\": 43, \"acti...\n",
      "18      [{\"action\": \"views\", \"b\": 10}, {\"a\": 95, \"acti...\n",
      "19                         [{\"action\": \"views\", \"b\": 59}]\n",
      "20      [{\"action\": \"conversions\", \"z\": 29}, {\"a\": 37,...\n",
      "21      [{\"action\": \"views\", \"b\": 86}, {\"a\": 74, \"acti...\n",
      "22      [{\"action\": \"views\", \"b\": 35}, {\"y\": 10, \"acti...\n",
      "23      [{\"action\": \"clicks\", \"c\": 55}, {\"action\": \"cl...\n",
      "24                        [{\"y\": 54, \"action\": \"clicks\"}]\n",
      "25      [{\"action\": \"views\", \"x\": 25}, {\"action\": \"vie...\n",
      "26      [{\"action\": \"views\", \"c\": 55}, {\"a\": 94, \"acti...\n",
      "27      [{\"y\": 69, \"action\": \"conversions\"}, {\"action\"...\n",
      "28      [{\"y\": 56, \"action\": \"clicks\"}, {\"action\": \"cl...\n",
      "29      [{\"action\": \"views\", \"x\": 76}, {\"action\": \"vie...\n",
      "                              ...                        \n",
      "2470    [{\"y\": 21, \"action\": \"views\"}, {\"action\": \"vie...\n",
      "2471    [{\"a\": 48, \"action\": \"conversions\"}, {\"action\"...\n",
      "2472    [{\"y\": 39, \"action\": \"conversions\"}, {\"action\"...\n",
      "2473    [{\"action\": \"views\", \"c\": 58}, {\"y\": 86, \"acti...\n",
      "2474    [{\"y\": 46, \"action\": \"conversions\"}, {\"action\"...\n",
      "2475    [{\"a\": 51, \"action\": \"clicks\"}, {\"action\": \"cl...\n",
      "2476    [{\"a\": 57, \"action\": \"clicks\"}, {\"action\": \"cl...\n",
      "2477    [{\"a\": 70, \"action\": \"clicks\"}, {\"y\": 96, \"act...\n",
      "2478    [{\"a\": 39, \"action\": \"clicks\"}, {\"action\": \"cl...\n",
      "2479    [{\"a\": 80, \"action\": \"clicks\"}, {\"action\": \"cl...\n",
      "2480    [{\"a\": 86, \"action\": \"clicks\"}, {\"action\": \"cl...\n",
      "2481    [{\"action\": \"conversions\", \"z\": 41}, {\"action\"...\n",
      "2482    [{\"action\": \"views\", \"c\": 70}, {\"a\": 25, \"acti...\n",
      "2483    [{\"action\": \"clicks\", \"c\": 38}, {\"action\": \"cl...\n",
      "2484    [{\"action\": \"views\", \"c\": 76}, {\"action\": \"vie...\n",
      "2485    [{\"action\": \"clicks\", \"z\": 73}, {\"y\": 28, \"act...\n",
      "2486    [{\"action\": \"views\", \"x\": 18}, {\"y\": 70, \"acti...\n",
      "2487    [{\"y\": 30, \"action\": \"clicks\"}, {\"action\": \"cl...\n",
      "2488                       [{\"action\": \"views\", \"x\": 97}]\n",
      "2489    [{\"action\": \"conversions\", \"x\": 2}, {\"action\":...\n",
      "2490    [{\"a\": 1, \"action\": \"conversions\"}, {\"action\":...\n",
      "2491    [{\"action\": \"views\", \"x\": 48}, {\"action\": \"vie...\n",
      "2492    [{\"action\": \"views\", \"x\": 46}, {\"action\": \"vie...\n",
      "2493    [{\"action\": \"conversions\", \"z\": 82}, {\"a\": 95,...\n",
      "2494    [{\"y\": 56, \"action\": \"views\"}, {\"action\": \"vie...\n",
      "2495    [{\"action\": \"conversions\", \"x\": 54}, {\"action\"...\n",
      "2496                       [{\"action\": \"views\", \"b\": 17}]\n",
      "2497    [{\"action\": \"clicks\", \"b\": 95}, {\"action\": \"cl...\n",
      "2498    [{\"action\": \"conversions\", \"c\": 2}, {\"a\": 4, \"...\n",
      "2499    [{\"action\": \"clicks\", \"b\": 24}, {\"a\": 75, \"act...\n",
      "Name: actions, dtype: object\n"
     ]
    }
   ],
   "source": [
    "print(campaigns_and_actions['actions'])\n"
   ]
  },
  {
   "cell_type": "code",
   "execution_count": null,
   "metadata": {
    "collapsed": false
   },
   "outputs": [],
   "source": [
    "\n"
   ]
  }
 ],
 "metadata": {
  "kernelspec": {
   "display_name": "Python 3",
   "language": "python",
   "name": "python3"
  },
  "language_info": {
   "codemirror_mode": {
    "name": "ipython",
    "version": 3
   },
   "file_extension": ".py",
   "mimetype": "text/x-python",
   "name": "python",
   "nbconvert_exporter": "python",
   "pygments_lexer": "ipython3",
   "version": "3.5.1"
  }
 },
 "nbformat": 4,
 "nbformat_minor": 0
}
